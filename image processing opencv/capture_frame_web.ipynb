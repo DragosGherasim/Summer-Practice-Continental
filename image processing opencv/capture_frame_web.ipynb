{
 "cells": [
  {
   "cell_type": "code",
   "execution_count": 1,
   "metadata": {},
   "outputs": [],
   "source": [
    "import cv2 as cv"
   ]
  },
  {
   "cell_type": "code",
   "execution_count": 2,
   "metadata": {},
   "outputs": [],
   "source": [
    "frameWidth = 1280\n",
    "frameHeight = 720"
   ]
  },
  {
   "cell_type": "code",
   "execution_count": 3,
   "metadata": {},
   "outputs": [
    {
     "data": {
      "text/plain": [
       "True"
      ]
     },
     "execution_count": 3,
     "metadata": {},
     "output_type": "execute_result"
    }
   ],
   "source": [
    "web_cam = cv.VideoCapture(0)\n",
    "web_cam.set(3, frameWidth)\n",
    "web_cam.set(4, frameHeight)"
   ]
  },
  {
   "cell_type": "code",
   "execution_count": 4,
   "metadata": {},
   "outputs": [],
   "source": [
    "screenshots_counter = 0\n",
    "\n",
    "while True:\n",
    "    isTrue, frame = web_cam.read()\n",
    "    \n",
    "    if not isTrue:\n",
    "        print('No webcam detected !')\n",
    "        break\n",
    "    \n",
    "    cv.imshow('Web Cam', frame)\n",
    "    \n",
    "    escape_button = screen_shot_button = cv.waitKey(1) & 0xFF\n",
    "    \n",
    "    if screen_shot_button == ord(' '): # screenshot after hitting space button\n",
    "        screen_shot = cv.imwrite(f'Resources/WebCam Screenshots/screen_shot{screenshots_counter}.jpg', frame)\n",
    "        screenshots_counter += 1\n",
    "        \n",
    "    if escape_button == 27: # closing webcam after hitting escape button ('ESC') button from keyboard\n",
    "        break\n",
    "    \n",
    "    try:\n",
    "        if cv.getWindowProperty('Web Cam', cv.WND_PROP_ASPECT_RATIO) < 0: # when the windows is closed after clicking the X, the function will return -1\n",
    "            break \n",
    "    except:\n",
    "        break\n",
    "        \n",
    "web_cam.release()"
   ]
  }
 ],
 "metadata": {
  "kernelspec": {
   "display_name": "Python 3.10.5 64-bit",
   "language": "python",
   "name": "python3"
  },
  "language_info": {
   "codemirror_mode": {
    "name": "ipython",
    "version": 3
   },
   "file_extension": ".py",
   "mimetype": "text/x-python",
   "name": "python",
   "nbconvert_exporter": "python",
   "pygments_lexer": "ipython3",
   "version": "3.10.5"
  },
  "orig_nbformat": 4,
  "vscode": {
   "interpreter": {
    "hash": "47e86d731e077963188d400b641a1f5cee6401b89b8a1175acb1a082248e2517"
   }
  }
 },
 "nbformat": 4,
 "nbformat_minor": 2
}
