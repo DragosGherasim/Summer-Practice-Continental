{
 "cells": [
  {
   "cell_type": "code",
   "execution_count": 1,
   "metadata": {},
   "outputs": [],
   "source": [
    "import cv2 as cv"
   ]
  },
  {
   "cell_type": "code",
   "execution_count": 2,
   "metadata": {},
   "outputs": [],
   "source": [
    "img = cv.imread('Resources\\Images\\shapes.jpg')\n",
    "imgGrey = cv.cvtColor(img, cv.COLOR_BGR2GRAY)\n",
    "\n",
    "_, thrash = cv.threshold(imgGrey, 425, 255, cv.THRESH_BINARY)\n",
    "contours, _ = cv.findContours(thrash, cv.RETR_TREE, cv.CHAIN_APPROX_NONE)"
   ]
  },
  {
   "cell_type": "code",
   "execution_count": 3,
   "metadata": {},
   "outputs": [],
   "source": [
    "for contour in contours:\n",
    "    approx = cv.approxPolyDP(contour, 0.01 * cv.arcLength(contour, True), True)\n",
    "    cv.drawContours(imgGrey, [approx], 0, (0), 3)\n",
    "    x = approx.ravel()[0]\n",
    "    y = approx.ravel()[1]  + 20\n",
    "    \n",
    "    if len(approx) == 3:\n",
    "        cv.putText(imgGrey, 'Triangle', (x, y), cv.FONT_HERSHEY_COMPLEX,  1, 0, 2)\n",
    "    elif len(approx) == 4:\n",
    "        x1, y1, w, h = cv.boundingRect(approx)\n",
    "        aspectRatio = float(w)/h\n",
    "        if aspectRatio != 1:\n",
    "            cv.putText(imgGrey, 'Rectangle', (x1, y1), cv.FONT_HERSHEY_COMPLEX, 1, 0, 2)\n",
    "        else:\n",
    "            cv.putText(imgGrey, 'Square', (x1, y1), cv.FONT_HERSHEY_COMPLEX, 1, 0, 2)\n",
    "    elif len(approx) == 5:\n",
    "        cv.putText(imgGrey, 'Pentagon', (x, y), cv.FONT_HERSHEY_COMPLEX, 1, 0, 2)\n",
    "    elif len(approx) > 6 and len(approx) < 14:\n",
    "        cv.putText(imgGrey, 'Ellipse', (x, y), cv.FONT_HERSHEY_COMPLEX, 1, 0, 2)\n",
    "    else:\n",
    "        cv.putText(imgGrey, 'Circle', (x, y), cv.FONT_HERSHEY_COMPLEX, 1, 0, 2)"
   ]
  },
  {
   "cell_type": "code",
   "execution_count": 4,
   "metadata": {},
   "outputs": [],
   "source": [
    "cv.imshow('Normal Image of Shpaes', img)\n",
    "cv.imshow('Shapes Name', imgGrey)\n",
    "\n",
    "cv.waitKey(0)\n",
    "cv.destroyAllWindows()"
   ]
  }
 ],
 "metadata": {
  "kernelspec": {
   "display_name": "Python 3.10.5 64-bit",
   "language": "python",
   "name": "python3"
  },
  "language_info": {
   "codemirror_mode": {
    "name": "ipython",
    "version": 3
   },
   "file_extension": ".py",
   "mimetype": "text/x-python",
   "name": "python",
   "nbconvert_exporter": "python",
   "pygments_lexer": "ipython3",
   "version": "3.10.5"
  },
  "orig_nbformat": 4,
  "vscode": {
   "interpreter": {
    "hash": "47e86d731e077963188d400b641a1f5cee6401b89b8a1175acb1a082248e2517"
   }
  }
 },
 "nbformat": 4,
 "nbformat_minor": 2
}
